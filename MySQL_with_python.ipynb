{
 "cells": [
  {
   "cell_type": "code",
   "execution_count": 1,
   "id": "cdd85df5",
   "metadata": {},
   "outputs": [
    {
     "name": "stdout",
     "output_type": "stream",
     "text": [
      "Requirement already satisfied: mysql-connector-python in c:\\users\\prince\\anaconda3\\lib\\site-packages (8.0.33)\n",
      "Requirement already satisfied: protobuf<=3.20.3,>=3.11.0 in c:\\users\\prince\\anaconda3\\lib\\site-packages (from mysql-connector-python) (3.20.3)\n"
     ]
    }
   ],
   "source": [
    "!pip install mysql-connector-python"
   ]
  },
  {
   "cell_type": "code",
   "execution_count": 106,
   "id": "7f33bcf3",
   "metadata": {},
   "outputs": [],
   "source": [
    "import mysql.connector as conn"
   ]
  },
  {
   "cell_type": "code",
   "execution_count": 107,
   "id": "fcd9f382",
   "metadata": {},
   "outputs": [],
   "source": [
    "mydb=conn.connect(host = 'localhost',user='root',passwd='Mahadev12@a')"
   ]
  },
  {
   "cell_type": "code",
   "execution_count": 108,
   "id": "917e7192",
   "metadata": {},
   "outputs": [],
   "source": [
    "cursor=mydb.cursor()"
   ]
  },
  {
   "cell_type": "code",
   "execution_count": 109,
   "id": "7fc4201b",
   "metadata": {},
   "outputs": [],
   "source": [
    "cursor.execute(\" show databases\")"
   ]
  },
  {
   "cell_type": "code",
   "execution_count": 110,
   "id": "84512771",
   "metadata": {},
   "outputs": [
    {
     "data": {
      "text/plain": [
       "[('information_schema',),\n",
       " ('mysql',),\n",
       " ('performance_schema',),\n",
       " ('sakila',),\n",
       " ('sriv',),\n",
       " ('sys',),\n",
       " ('test',),\n",
       " ('world',)]"
      ]
     },
     "execution_count": 110,
     "metadata": {},
     "output_type": "execute_result"
    }
   ],
   "source": [
    "cursor.fetchall()"
   ]
  },
  {
   "cell_type": "code",
   "execution_count": 111,
   "id": "025b847c",
   "metadata": {},
   "outputs": [],
   "source": [
    "cursor=mydb.cursor()"
   ]
  },
  {
   "cell_type": "code",
   "execution_count": 113,
   "id": "f880080f",
   "metadata": {},
   "outputs": [],
   "source": [
    "cursor.execute(\"use test\")"
   ]
  },
  {
   "cell_type": "code",
   "execution_count": 114,
   "id": "6ecacb85",
   "metadata": {},
   "outputs": [],
   "source": [
    "cursor.execute(\"show tables\")"
   ]
  },
  {
   "cell_type": "code",
   "execution_count": 115,
   "id": "27257c83",
   "metadata": {},
   "outputs": [
    {
     "data": {
      "text/plain": [
       "[('table1',), ('test2',), ('test3',), ('test4',), ('test5',)]"
      ]
     },
     "execution_count": 115,
     "metadata": {},
     "output_type": "execute_result"
    }
   ],
   "source": [
    "cursor.fetchall()"
   ]
  },
  {
   "cell_type": "code",
   "execution_count": 84,
   "id": "5fc326ca",
   "metadata": {},
   "outputs": [],
   "source": [
    "cursor.execute(\"select * from test.table1\")"
   ]
  },
  {
   "cell_type": "code",
   "execution_count": 85,
   "id": "bb6cf983",
   "metadata": {},
   "outputs": [
    {
     "data": {
      "text/plain": [
       "[(3844, 'sauarbh', 'sriv', 444, 'fsdsm'),\n",
       " (46237, 'prince', 'sriva', 347, 'cognizant')]"
      ]
     },
     "execution_count": 85,
     "metadata": {},
     "output_type": "execute_result"
    }
   ],
   "source": [
    "cursor.fetchall()"
   ]
  },
  {
   "cell_type": "code",
   "execution_count": 67,
   "id": "97bda057",
   "metadata": {},
   "outputs": [
    {
     "name": "stdout",
     "output_type": "stream",
     "text": [
      " Volume in drive C has no label.\n",
      " Volume Serial Number is D096-2530\n",
      "\n",
      " Directory of C:\\Users\\prince\n",
      "\n",
      "10/02/2023  10:18 PM    <DIR>          .\n",
      "10/02/2023  10:18 PM    <DIR>          ..\n",
      "06/08/2023  04:07 PM                95 .accessibility.properties\n",
      "02/22/2023  05:53 AM    <DIR>          .cache\n",
      "06/08/2023  04:32 PM    <DIR>          .conda\n",
      "01/07/2023  09:52 AM                25 .condarc\n",
      "01/07/2023  09:26 AM    <DIR>          .continuum\n",
      "07/30/2023  11:21 PM               134 .gitconfig\n",
      "07/08/2023  10:13 AM                53 .git-for-windows-updater\n",
      "10/01/2023  12:27 PM    <DIR>          .ipynb_checkpoints\n",
      "01/05/2023  06:53 PM    <DIR>          .ipython\n",
      "03/15/2023  01:27 PM    <DIR>          .jupyter\n",
      "08/10/2023  06:57 AM                20 .lesshst\n",
      "08/26/2023  09:30 PM    <DIR>          .matplotlib\n",
      "04/04/2022  10:40 AM                 0 .node_repl_history\n",
      "07/22/2023  07:03 PM             1,528 .viminfo\n",
      "07/06/2023  08:38 PM    <DIR>          .vscode\n",
      "07/21/2023  10:08 AM            33,032 02_july_OOPs_inheritance_Assignment.ipynb\n",
      "07/08/2023  01:11 PM                72 1_june_krish-sir_live.ipynb\n",
      "07/11/2023  11:09 PM            24,526 10th-june-Assignment.ipynb\n",
      "08/23/2023  11:10 PM            25,887 11th June - Python (Functions Assignment) - 1.ipynb\n",
      "09/23/2023  12:31 AM           357,702 2.EDA(Zomato dataset).ipynb\n",
      "09/23/2023  07:48 PM           243,566 3.eda+featureENG(Black_friday_dataset).ipynb\n",
      "09/22/2023  06:35 PM    <DIR>          5-Days-Live-EDA-and-Feature-Engineering-main\n",
      "09/18/2023  07:04 PM    <DIR>          8836201-6f9306ad21398ea43cba4f7d537619d0e07d5ae3\n",
      "09/18/2023  07:02 PM             1,308 8836201-6f9306ad21398ea43cba4f7d537619d0e07d5ae3.zip\n",
      "03/16/2023  03:34 PM               119 a1.csv\n",
      "07/20/2023  10:36 PM            12,703 access_modifiers(public. private , protected).ipynb\n",
      "09/02/2023  11:17 PM             1,173 addresses.csv\n",
      "08/04/2023  08:08 PM            10,773 all_data_types_in_python_and_methods.ipynb\n",
      "01/05/2023  05:33 PM    <DIR>          anaconda3\n",
      "07/13/2023  08:55 PM            13,457 Assignment 6.ipynb\n",
      "07/09/2023  10:39 AM            19,312 assignment3.ipynb\n",
      "07/10/2023  11:05 PM            22,828 assignment-4.ipynb\n",
      "07/12/2023  05:09 PM            11,356 Asssignment-5.ipynb\n",
      "03/28/2023  12:05 AM               443 binarySearch.java\n",
      "04/04/2023  11:16 AM                 0 binarysearchjava.txt\n",
      "09/23/2023  10:23 AM         9,364,628 blackFriday_test.csv\n",
      "09/23/2023  10:23 AM        24,975,609 blackFriday_train.csv\n",
      "03/16/2023  02:16 PM                47 book.csv\n",
      "09/21/2023  10:31 PM           500,355 cleaned_travel.csv\n",
      "04/09/2021  12:43 AM    <DIR>          Contacts\n",
      "09/02/2023  11:17 PM             1,589 contacts.csv\n",
      "09/22/2023  06:35 PM             8,783 Country-Code.xlsx\n",
      "06/15/2023  08:16 AM               126 cs50p.txt\n",
      "03/19/2023  08:56 PM                37 csv_location.txt\n",
      "09/24/2023  01:04 PM    <DIR>          Desktop\n",
      "09/25/2023  04:50 PM    <DIR>          Documents\n",
      "09/29/2023  07:33 PM    <DIR>          Downloads\n",
      "09/21/2023  11:52 AM           186,360 EDA.ipynb\n",
      "03/22/2023  11:29 PM               191 ex1.json\n",
      "03/22/2023  11:38 PM               147 ex2.json\n",
      "04/09/2021  12:43 AM    <DIR>          Favorites\n",
      "01/20/2023  10:25 AM             2,525 few coodess.ipynb\n",
      "03/27/2023  09:15 PM               253 fibo.jdk.txt\n",
      "01/08/2023  09:55 PM             1,381 fibonacci\n",
      "06/06/2019  06:38 PM         9,140,113 fifa_data.csv\n",
      "12/16/2022  03:59 PM               319 file.html\n",
      "08/04/2023  08:22 PM               121 flask_snippet.txt\n",
      "03/24/2023  09:09 PM               879 frame_pickle\n",
      "06/06/2019  06:38 PM             1,092 gas_prices.csv\n",
      "03/24/2023  08:43 PM               282 h5_file_definition.txt\n",
      "09/02/2023  11:17 PM               277 holiday_schedules.csv\n",
      "08/10/2023  05:15 PM    <DIR>          image\n",
      "07/30/2023  10:01 AM             2,491 image_scraper.ipynb\n",
      "08/10/2023  07:26 PM            10,974 image_scraper1.ipynb\n",
      "08/10/2023  07:12 PM    <DIR>          image1\n",
      "07/30/2023  09:50 AM    <DIR>          images\n",
      "08/23/2023  03:31 PM               417 imp_commands_sql.txt\n",
      "08/22/2023  11:12 PM               124 imp_sql.txt\n",
      "07/26/2023  09:30 AM               144 important commands.txt\n",
      "09/18/2023  07:04 PM             3,975 iris.csv\n",
      "01/08/2023  09:50 PM             1,057 leap year.ipynb\n",
      "01/19/2023  08:50 AM             8,614 learning python 18 Jan-23.ipynb\n",
      "03/19/2023  08:57 PM            20,397 learning_pandas_1.ipynb\n",
      "03/16/2023  11:44 PM             6,376 learning_pandas_2..ipynb\n",
      "03/21/2023  06:41 PM             6,389 learning_pandas_3.ipynb\n",
      "03/22/2023  11:42 PM             7,526 learning_pandas_4.ipynb\n",
      "03/15/2023  01:56 PM                 0 leetcode.cpp\n",
      "03/30/2023  08:15 AM             1,198 leetcode_2089.java\n",
      "03/16/2023  09:48 PM               281 leetcode_26.ipynb\n",
      "03/16/2023  11:41 PM               278 leetcode_27.cpp\n",
      "03/30/2023  08:11 AM             1,379 leetcode_34.java\n",
      "03/23/2023  12:27 AM               414 leetcode_35.cpp\n",
      "03/30/2023  08:04 AM               351 leetcode_744.java\n",
      "03/15/2023  01:35 PM               516 leetcode-11.cpp\n",
      "03/15/2023  02:12 PM               317 leetcode-344_reverse-string.cpp\n",
      "03/15/2023  01:50 PM               485 Leetcode-53_Maximum-subarray.cpp\n",
      "03/15/2023  02:04 PM               408 leetcode-9-palindrome-number.cpp\n",
      "05/14/2023  11:01 AM               950 linkedin bio saurabh.txt\n",
      "05/20/2023  09:14 PM             2,764 linkedin post.txt\n",
      "07/06/2021  06:32 AM    <DIR>          Links\n",
      "07/10/2023  08:52 PM               590 list_mehods.txt\n",
      "07/20/2023  03:57 PM               564 little revision.txt\n",
      "09/02/2023  11:17 PM            18,015 locations.csv\n",
      "06/16/2023  11:44 PM               197 logging.txt\n",
      "09/03/2023  12:16 AM           161,651 LUSID Excel - Business Agility - Making Simple Changes Quickly & Easily.xlsx\n",
      "09/03/2023  12:16 AM           161,410 LUSID Excel - Maintain a product in multiple currencies and share classes.xlsx\n",
      "09/03/2023  12:16 AM            95,503 LUSID Excel - Manage instruments with economic definitions.xlsx\n",
      "09/03/2023  12:16 AM            84,319 LUSID Excel - Manage Orders.xlsx\n",
      "09/03/2023  12:16 AM           137,753 LUSID Excel - Manage your investment strategies.xlsx\n",
      "09/03/2023  12:16 AM           184,013 LUSID Excel - Setting up your IBOR.xlsx\n",
      "09/03/2023  12:16 AM           136,632 LUSID Excel - Setting up your market data.xlsx\n",
      "09/11/2023  12:48 AM         2,274,765 machine_learning_1.ipynb\n",
      "09/02/2023  11:17 PM             1,610 mail_addresses.csv\n",
      "09/24/2023  10:01 PM           316,059 matplotlib.ipynb\n",
      "08/26/2023  10:51 PM           120,618 matplotlib1.ipynb\n",
      "06/10/2023  10:51 AM             1,008 mlintro.txt\n",
      "07/06/2023  08:36 PM               420 msqlimp.txt\n",
      "08/26/2023  09:44 PM            12,198 mtplt.png\n",
      "06/18/2023  06:50 AM    <DIR>          Music\n",
      "09/21/2023  01:29 PM           594,503 my_first_full_EDA.ipynb\n",
      "03/24/2023  09:09 PM            17,568 mydata.h5\n",
      "09/24/2023  09:22 PM            47,356 myfig.png\n",
      "10/02/2023  09:44 PM             4,290 MySQL.ipynb\n",
      "09/02/2023  11:21 PM    <DIR>          ohana-api-master\n",
      "07/09/2021  03:00 AM    <DIR>          OneDrive\n",
      "07/08/2023  09:40 AM               105 oop3_krishsir_link.txt\n",
      "07/17/2023  05:46 PM             6,052 oops_2_Inheritence_krish_sir_2_july.ipynb\n",
      "02/14/2019  02:46 PM    <DIR>          Oracle\n",
      "09/02/2023  11:17 PM             2,281 organizations.csv\n",
      "03/24/2023  09:54 PM            21,947 pandas_5.ipynb\n",
      "09/03/2023  12:41 AM            96,694 pandas_best_1.ipynb\n",
      "03/15/2023  12:48 PM            20,397 pandas_learning.ipynb\n",
      "08/09/2023  02:25 PM                33 pass.txt\n",
      "04/01/2023  05:59 PM         5,891,593 PGQP-26 Computer Science and Information Technology.pdf\n",
      "09/02/2023  11:17 PM             2,092 phones.csv\n",
      "09/28/2023  04:47 PM    <DIR>          Pictures\n",
      "08/04/2023  08:31 PM    <DIR>          Postman\n",
      "01/20/2023  06:28 PM             4,745 prep insta problems 19-1-2023.ipynb\n",
      "09/02/2023  11:17 PM                60 programs.csv\n",
      "02/21/2023  12:46 PM    <DIR>          project\n",
      "01/17/2023  10:59 PM             9,578 pyhon1245.ipynb\n",
      "06/10/2023  12:31 PM               583 PYTHON INBUILT FUCTIONS.txt\n",
      "08/24/2023  08:30 AM               885 queries.txt\n",
      "09/03/2023  12:16 AM             1,667 README.md\n",
      "01/20/2023  06:41 PM             1,053 recursion problems prepinsta 20-1-2023.ipynb\n",
      "09/02/2023  11:17 PM               350 regular_schedules.csv\n",
      "08/22/2023  07:40 PM           183,435 review_scraper.ipynb\n",
      "05/05/2023  02:33 PM           114,122 Revision and task solving (1).ipynb\n",
      "05/25/2023  10:18 PM               251 s s.txt\n",
      "09/03/2023  12:18 AM    <DIR>          sample-excel-master\n",
      "04/09/2021  12:43 AM    <DIR>          Saved Games\n",
      "09/14/2023  01:54 PM    <DIR>          seaborn-data\n",
      "09/02/2023  11:17 PM            19,128 services.csv\n",
      "05/26/2023  09:04 PM                19 shaurya shrivastav.txt\n",
      "08/23/2023  11:55 AM             1,199 sql commands.txt\n",
      "01/19/2023  03:34 PM             1,253 strong number.ipynb\n",
      "09/19/2023  09:39 PM            72,036 student.csv\n",
      "10/02/2023  10:17 PM               509 student_data - Copy.csv\n",
      "10/02/2023  10:17 PM               509 student_data.csv\n",
      "09/19/2023  09:39 PM    <DIR>          student_performance\n",
      "09/02/2023  11:17 PM            14,618 taxonomy.csv\n",
      "02/21/2023  12:42 PM    <DIR>          test\n",
      "02/21/2023  12:59 PM    <DIR>          test22\n",
      "09/18/2023  09:28 PM            57,726 train.csv\n",
      "01/07/2023  07:16 PM    <DIR>          Untitled Folder\n",
      "01/07/2023  10:28 AM    <DIR>          Untitled Folder 1\n",
      "03/15/2023  12:48 PM            20,397 Untitled.ipynb\n",
      "09/02/2023  11:43 PM                 0 untitled.txt\n",
      "03/15/2023  01:47 PM                 0 untitled1\n",
      "09/20/2022  12:07 PM               258 Untitled-1.c\n",
      "09/21/2022  09:57 PM            42,019 Untitled-1.exe\n",
      "03/24/2023  09:30 PM            12,040 Untitled1.ipynb\n",
      "05/10/2023  07:56 PM               802 Untitled10.ipynb\n",
      "05/17/2023  11:52 PM             7,753 Untitled11.ipynb\n",
      "07/01/2023  08:49 PM             2,716 Untitled12.ipynb\n",
      "07/08/2023  01:05 PM               589 Untitled13.ipynb\n",
      "07/08/2023  09:28 PM                72 Untitled14.ipynb\n",
      "07/13/2023  01:25 AM            28,685 Untitled15.ipynb\n",
      "07/15/2023  09:38 AM            14,388 Untitled16.ipynb\n",
      "07/15/2023  09:41 AM               589 Untitled17.ipynb\n",
      "07/20/2023  04:06 PM               653 Untitled18.ipynb\n",
      "08/04/2023  03:36 PM             1,768 Untitled19.ipynb\n",
      "03/24/2023  09:27 PM                72 Untitled2.ipynb\n",
      "08/10/2023  07:13 PM             6,851 Untitled20.ipynb\n",
      "08/12/2023  09:19 PM             2,420 Untitled21.ipynb\n",
      "08/12/2023  09:23 PM             1,635 Untitled22.ipynb\n",
      "08/31/2023  03:31 PM            16,873 Untitled23.ipynb\n",
      "09/14/2023  09:56 AM             3,906 Untitled24.ipynb\n",
      "09/14/2023  01:56 PM            41,367 Untitled25.ipynb\n",
      "09/19/2023  11:41 AM           165,752 Untitled26.ipynb\n",
      "09/21/2023  11:33 PM           132,421 Untitled27.ipynb\n",
      "09/22/2023  04:09 PM           107,105 Untitled28.ipynb\n",
      "09/22/2023  03:56 PM            16,220 Untitled29.ipynb\n",
      "03/22/2023  11:08 PM             7,094 Untitled3.ipynb\n",
      "09/30/2023  09:59 AM            16,936 Untitled30.ipynb\n",
      "01/07/2023  10:05 AM               589 Untitled4.ipynb\n",
      "07/09/2023  11:42 PM             9,739 Untitled5.ipynb\n",
      "01/07/2023  09:44 PM             2,842 Untitled6.ipynb\n",
      "05/04/2023  09:52 AM             3,618 Untitled7.ipynb\n",
      "05/05/2023  02:26 PM               589 Untitled8.ipynb\n",
      "05/05/2023  02:29 PM               825 Untitled9.ipynb\n",
      "08/26/2023  08:08 PM    <DIR>          Videos\n",
      "07/08/2020  09:58 AM    <DIR>          w3python\n",
      "09/22/2023  06:35 PM         2,257,316 zomato.csv\n",
      "             157 File(s)     58,865,912 bytes\n",
      "              39 Dir(s)  27,016,646,656 bytes free\n"
     ]
    }
   ],
   "source": [
    "ls"
   ]
  },
  {
   "cell_type": "code",
   "execution_count": 68,
   "id": "2164423c",
   "metadata": {},
   "outputs": [],
   "source": [
    "file=open(\"student_data.csv\" , 'r')"
   ]
  },
  {
   "cell_type": "code",
   "execution_count": 69,
   "id": "84eb1721",
   "metadata": {},
   "outputs": [
    {
     "data": {
      "text/plain": [
       "'1,John,Doe,Male,11\\n2,Jane,Smith,Female,10\\n3,Michael,Johnson,Male,12\\n4,Emily,Williams,Female,11\\n5,William,Brown,Male,10\\n6,Sarah,Jones,Female,9\\n7,James,Davis,Male,11\\n8,Olivia,Miller,Female,10\\n9,Robert,Anderson,Male,12\\n10,Emma,Moore,Female,11\\n11,David,Martin,Male,10\\n12,Ava,Taylor,Female,9\\n13,Joseph,Clark,Male,11\\n14,Sophia,Thomas,Female,10\\n15,Charles,Hall,Male,12\\n16,Grace,Wilson,Female,11\\n17,Daniel,White,Male,10\\n18,Chloe,Lee,Female,9\\n19,Matthew,Scott,Male,11\\n20,Elizabeth,Harris,Female,10\\n'"
      ]
     },
     "execution_count": 69,
     "metadata": {},
     "output_type": "execute_result"
    }
   ],
   "source": [
    "file.read()"
   ]
  },
  {
   "cell_type": "code",
   "execution_count": 121,
   "id": "b35ffe96",
   "metadata": {
    "scrolled": true
   },
   "outputs": [
    {
     "name": "stdout",
     "output_type": "stream",
     "text": [
      "insert into test5 values (1,\"John\",\"Doe\",\"Male\",90)\n",
      "['1,\"John\",\"Doe\",\"Male\",90']\n",
      "insert into test5 values (2,\"Jane\",\"Smith\",\"Female\",85)\n",
      "['2,\"Jane\",\"Smith\",\"Female\",85']\n",
      "insert into test5 values (3,\"Michael\",\"Johnson\",\"Male\",78)\n",
      "['3,\"Michael\",\"Johnson\",\"Male\",78']\n",
      "insert into test5 values (4,\"Emily\",\"Williams\",\"Female\",92)\n",
      "['4,\"Emily\",\"Williams\",\"Female\",92']\n",
      "insert into test5 values (5,\"William\",\"Brown\",\"Male\",88)\n",
      "['5,\"William\",\"Brown\",\"Male\",88']\n",
      "insert into test5 values (6,\"Sarah\",\"Jones\",\"Female\",75)\n",
      "['6,\"Sarah\",\"Jones\",\"Female\",75']\n",
      "insert into test5 values (7,\"James\",\"Davis\",\"Male\",91)\n",
      "['7,\"James\",\"Davis\",\"Male\",91']\n",
      "insert into test5 values (8,\"Olivia\",\"Miller\",\"Female\",87)\n",
      "['8,\"Olivia\",\"Miller\",\"Female\",87']\n",
      "insert into test5 values (9,\"Robert\",\"Wilson\",\"Male\",82)\n",
      "['9,\"Robert\",\"Wilson\",\"Male\",82']\n",
      "insert into test5 values (10,\"Emma\",\"Martin\",\"Female\",89)\n",
      "['10,\"Emma\",\"Martin\",\"Female\",89']\n",
      "insert into test5 values (11,\"David\",\"Anderson\",\"Male\",79)\n",
      "['11,\"David\",\"Anderson\",\"Male\",79']\n",
      "insert into test5 values (12,\"Sophia\",\"Martinez\",\"Female\",94)\n",
      "['12,\"Sophia\",\"Martinez\",\"Female\",94']\n",
      "insert into test5 values (13,\"Joseph\",\"Lopez\",\"Male\",84)\n",
      "['13,\"Joseph\",\"Lopez\",\"Male\",84']\n",
      "insert into test5 values (14,\"Charlotte\",\"Hall\",\"Female\",93)\n",
      "['14,\"Charlotte\",\"Hall\",\"Female\",93']\n",
      "insert into test5 values (15,\"Charles\",\"Young\",\"Male\",80)\n",
      "['15,\"Charles\",\"Young\",\"Male\",80']\n",
      "insert into test5 values (16,\"Abigail\",\"Harris\",\"Female\",76)\n",
      "['16,\"Abigail\",\"Harris\",\"Female\",76']\n",
      "insert into test5 values (17,\"Thomas\",\"Clark\",\"Male\",88)\n",
      "['17,\"Thomas\",\"Clark\",\"Male\",88']\n",
      "insert into test5 values (18,\"Ella\",\"Lewis\",\"Female\",81)\n",
      "['18,\"Ella\",\"Lewis\",\"Female\",81']\n",
      "insert into test5 values (19,\"Daniel\",\"Turner\",\"Male\",77)\n",
      "['19,\"Daniel\",\"Turner\",\"Male\",77']\n",
      "insert into test5 values (20,\"Grace\",\"Wright\",\"Female\",90)\n",
      "['20,\"Grace\",\"Wright\",\"Female\",90']\n"
     ]
    }
   ],
   "source": [
    "import csv\n",
    "with open (\"student_data.csv\" , 'r') as f:\n",
    "    std_data=csv.reader(f,delimiter=\"\\n\")\n",
    "    for i in std_data:\n",
    "        print(f\"insert into test5 values ({str(i[0])})\")\n",
    "        cursor.execute(f\"insert into test.test5 values ({str(i[0])})\")\n",
    "        print(i)"
   ]
  },
  {
   "cell_type": "code",
   "execution_count": 122,
   "id": "0a219050",
   "metadata": {},
   "outputs": [],
   "source": [
    "mydb.commit()"
   ]
  },
  {
   "cell_type": "code",
   "execution_count": 128,
   "id": "5a9e286f",
   "metadata": {},
   "outputs": [
    {
     "name": "stdout",
     "output_type": "stream",
     "text": [
      "hello world\n"
     ]
    }
   ],
   "source": [
    "print (\"hello {}\".format(\"world\"))  #using format in string "
   ]
  },
  {
   "cell_type": "code",
   "execution_count": 129,
   "id": "aced6bcd",
   "metadata": {},
   "outputs": [],
   "source": [
    "import pandas as pd"
   ]
  },
  {
   "cell_type": "code",
   "execution_count": 130,
   "id": "fe6d1a64",
   "metadata": {},
   "outputs": [
    {
     "name": "stderr",
     "output_type": "stream",
     "text": [
      "C:\\Users\\prince\\anaconda3\\lib\\site-packages\\pandas\\io\\sql.py:762: UserWarning: pandas only support SQLAlchemy connectable(engine/connection) ordatabase string URI or sqlite3 DBAPI2 connectionother DBAPI2 objects are not tested, please consider using SQLAlchemy\n",
      "  warnings.warn(\n"
     ]
    },
    {
     "data": {
      "text/html": [
       "<div>\n",
       "<style scoped>\n",
       "    .dataframe tbody tr th:only-of-type {\n",
       "        vertical-align: middle;\n",
       "    }\n",
       "\n",
       "    .dataframe tbody tr th {\n",
       "        vertical-align: top;\n",
       "    }\n",
       "\n",
       "    .dataframe thead th {\n",
       "        text-align: right;\n",
       "    }\n",
       "</style>\n",
       "<table border=\"1\" class=\"dataframe\">\n",
       "  <thead>\n",
       "    <tr style=\"text-align: right;\">\n",
       "      <th></th>\n",
       "      <th>StudentID</th>\n",
       "      <th>FirstName</th>\n",
       "      <th>LastName</th>\n",
       "      <th>Gender</th>\n",
       "      <th>Grade</th>\n",
       "    </tr>\n",
       "  </thead>\n",
       "  <tbody>\n",
       "    <tr>\n",
       "      <th>0</th>\n",
       "      <td>1</td>\n",
       "      <td>John</td>\n",
       "      <td>Doe</td>\n",
       "      <td>Male</td>\n",
       "      <td>90</td>\n",
       "    </tr>\n",
       "    <tr>\n",
       "      <th>1</th>\n",
       "      <td>2</td>\n",
       "      <td>Jane</td>\n",
       "      <td>Smith</td>\n",
       "      <td>Female</td>\n",
       "      <td>85</td>\n",
       "    </tr>\n",
       "    <tr>\n",
       "      <th>2</th>\n",
       "      <td>3</td>\n",
       "      <td>Michael</td>\n",
       "      <td>Johnson</td>\n",
       "      <td>Male</td>\n",
       "      <td>78</td>\n",
       "    </tr>\n",
       "    <tr>\n",
       "      <th>3</th>\n",
       "      <td>4</td>\n",
       "      <td>Emily</td>\n",
       "      <td>Williams</td>\n",
       "      <td>Female</td>\n",
       "      <td>92</td>\n",
       "    </tr>\n",
       "    <tr>\n",
       "      <th>4</th>\n",
       "      <td>5</td>\n",
       "      <td>William</td>\n",
       "      <td>Brown</td>\n",
       "      <td>Male</td>\n",
       "      <td>88</td>\n",
       "    </tr>\n",
       "    <tr>\n",
       "      <th>5</th>\n",
       "      <td>6</td>\n",
       "      <td>Sarah</td>\n",
       "      <td>Jones</td>\n",
       "      <td>Female</td>\n",
       "      <td>75</td>\n",
       "    </tr>\n",
       "    <tr>\n",
       "      <th>6</th>\n",
       "      <td>7</td>\n",
       "      <td>James</td>\n",
       "      <td>Davis</td>\n",
       "      <td>Male</td>\n",
       "      <td>91</td>\n",
       "    </tr>\n",
       "    <tr>\n",
       "      <th>7</th>\n",
       "      <td>8</td>\n",
       "      <td>Olivia</td>\n",
       "      <td>Miller</td>\n",
       "      <td>Female</td>\n",
       "      <td>87</td>\n",
       "    </tr>\n",
       "    <tr>\n",
       "      <th>8</th>\n",
       "      <td>9</td>\n",
       "      <td>Robert</td>\n",
       "      <td>Wilson</td>\n",
       "      <td>Male</td>\n",
       "      <td>82</td>\n",
       "    </tr>\n",
       "    <tr>\n",
       "      <th>9</th>\n",
       "      <td>10</td>\n",
       "      <td>Emma</td>\n",
       "      <td>Martin</td>\n",
       "      <td>Female</td>\n",
       "      <td>89</td>\n",
       "    </tr>\n",
       "    <tr>\n",
       "      <th>10</th>\n",
       "      <td>11</td>\n",
       "      <td>David</td>\n",
       "      <td>Anderson</td>\n",
       "      <td>Male</td>\n",
       "      <td>79</td>\n",
       "    </tr>\n",
       "    <tr>\n",
       "      <th>11</th>\n",
       "      <td>12</td>\n",
       "      <td>Sophia</td>\n",
       "      <td>Martinez</td>\n",
       "      <td>Female</td>\n",
       "      <td>94</td>\n",
       "    </tr>\n",
       "    <tr>\n",
       "      <th>12</th>\n",
       "      <td>13</td>\n",
       "      <td>Joseph</td>\n",
       "      <td>Lopez</td>\n",
       "      <td>Male</td>\n",
       "      <td>84</td>\n",
       "    </tr>\n",
       "    <tr>\n",
       "      <th>13</th>\n",
       "      <td>14</td>\n",
       "      <td>Charlotte</td>\n",
       "      <td>Hall</td>\n",
       "      <td>Female</td>\n",
       "      <td>93</td>\n",
       "    </tr>\n",
       "    <tr>\n",
       "      <th>14</th>\n",
       "      <td>15</td>\n",
       "      <td>Charles</td>\n",
       "      <td>Young</td>\n",
       "      <td>Male</td>\n",
       "      <td>80</td>\n",
       "    </tr>\n",
       "    <tr>\n",
       "      <th>15</th>\n",
       "      <td>16</td>\n",
       "      <td>Abigail</td>\n",
       "      <td>Harris</td>\n",
       "      <td>Female</td>\n",
       "      <td>76</td>\n",
       "    </tr>\n",
       "    <tr>\n",
       "      <th>16</th>\n",
       "      <td>17</td>\n",
       "      <td>Thomas</td>\n",
       "      <td>Clark</td>\n",
       "      <td>Male</td>\n",
       "      <td>88</td>\n",
       "    </tr>\n",
       "    <tr>\n",
       "      <th>17</th>\n",
       "      <td>18</td>\n",
       "      <td>Ella</td>\n",
       "      <td>Lewis</td>\n",
       "      <td>Female</td>\n",
       "      <td>81</td>\n",
       "    </tr>\n",
       "    <tr>\n",
       "      <th>18</th>\n",
       "      <td>19</td>\n",
       "      <td>Daniel</td>\n",
       "      <td>Turner</td>\n",
       "      <td>Male</td>\n",
       "      <td>77</td>\n",
       "    </tr>\n",
       "    <tr>\n",
       "      <th>19</th>\n",
       "      <td>20</td>\n",
       "      <td>Grace</td>\n",
       "      <td>Wright</td>\n",
       "      <td>Female</td>\n",
       "      <td>90</td>\n",
       "    </tr>\n",
       "  </tbody>\n",
       "</table>\n",
       "</div>"
      ],
      "text/plain": [
       "    StudentID  FirstName  LastName  Gender  Grade\n",
       "0           1       John       Doe    Male     90\n",
       "1           2       Jane     Smith  Female     85\n",
       "2           3    Michael   Johnson    Male     78\n",
       "3           4      Emily  Williams  Female     92\n",
       "4           5    William     Brown    Male     88\n",
       "5           6      Sarah     Jones  Female     75\n",
       "6           7      James     Davis    Male     91\n",
       "7           8     Olivia    Miller  Female     87\n",
       "8           9     Robert    Wilson    Male     82\n",
       "9          10       Emma    Martin  Female     89\n",
       "10         11      David  Anderson    Male     79\n",
       "11         12     Sophia  Martinez  Female     94\n",
       "12         13     Joseph     Lopez    Male     84\n",
       "13         14  Charlotte      Hall  Female     93\n",
       "14         15    Charles     Young    Male     80\n",
       "15         16    Abigail    Harris  Female     76\n",
       "16         17     Thomas     Clark    Male     88\n",
       "17         18       Ella     Lewis  Female     81\n",
       "18         19     Daniel    Turner    Male     77\n",
       "19         20      Grace    Wright  Female     90"
      ]
     },
     "execution_count": 130,
     "metadata": {},
     "output_type": "execute_result"
    }
   ],
   "source": [
    "pd.read_sql(\"select * from test.test5\",mydb)"
   ]
  },
  {
   "cell_type": "code",
   "execution_count": 131,
   "id": "b8a0038e",
   "metadata": {},
   "outputs": [
    {
     "name": "stderr",
     "output_type": "stream",
     "text": [
      "C:\\Users\\prince\\anaconda3\\lib\\site-packages\\pandas\\io\\sql.py:762: UserWarning: pandas only support SQLAlchemy connectable(engine/connection) ordatabase string URI or sqlite3 DBAPI2 connectionother DBAPI2 objects are not tested, please consider using SQLAlchemy\n",
      "  warnings.warn(\n"
     ]
    },
    {
     "data": {
      "text/html": [
       "<div>\n",
       "<style scoped>\n",
       "    .dataframe tbody tr th:only-of-type {\n",
       "        vertical-align: middle;\n",
       "    }\n",
       "\n",
       "    .dataframe tbody tr th {\n",
       "        vertical-align: top;\n",
       "    }\n",
       "\n",
       "    .dataframe thead th {\n",
       "        text-align: right;\n",
       "    }\n",
       "</style>\n",
       "<table border=\"1\" class=\"dataframe\">\n",
       "  <thead>\n",
       "    <tr style=\"text-align: right;\">\n",
       "      <th></th>\n",
       "      <th>Tables_in_test</th>\n",
       "    </tr>\n",
       "  </thead>\n",
       "  <tbody>\n",
       "    <tr>\n",
       "      <th>0</th>\n",
       "      <td>table1</td>\n",
       "    </tr>\n",
       "    <tr>\n",
       "      <th>1</th>\n",
       "      <td>test5</td>\n",
       "    </tr>\n",
       "  </tbody>\n",
       "</table>\n",
       "</div>"
      ],
      "text/plain": [
       "  Tables_in_test\n",
       "0         table1\n",
       "1          test5"
      ]
     },
     "execution_count": 131,
     "metadata": {},
     "output_type": "execute_result"
    }
   ],
   "source": [
    "pd.read_sql(\"show tables\",mydb)"
   ]
  },
  {
   "cell_type": "code",
   "execution_count": null,
   "id": "8a031f11",
   "metadata": {},
   "outputs": [],
   "source": []
  }
 ],
 "metadata": {
  "kernelspec": {
   "display_name": "Python 3 (ipykernel)",
   "language": "python",
   "name": "python3"
  },
  "language_info": {
   "codemirror_mode": {
    "name": "ipython",
    "version": 3
   },
   "file_extension": ".py",
   "mimetype": "text/x-python",
   "name": "python",
   "nbconvert_exporter": "python",
   "pygments_lexer": "ipython3",
   "version": "3.9.13"
  }
 },
 "nbformat": 4,
 "nbformat_minor": 5
}
