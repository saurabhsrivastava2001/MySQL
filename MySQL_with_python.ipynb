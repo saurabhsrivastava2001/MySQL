{
 "cells": [
  {
   "cell_type": "code",
   "execution_count": 1,
   "id": "b927e5ac",
   "metadata": {},
   "outputs": [
    {
     "name": "stdout",
     "output_type": "stream",
     "text": [
      "Requirement already satisfied: mysql-connector-python in c:\\users\\prince\\anaconda3\\lib\\site-packages (8.0.33)\n",
      "Requirement already satisfied: protobuf<=3.20.3,>=3.11.0 in c:\\users\\prince\\anaconda3\\lib\\site-packages (from mysql-connector-python) (3.20.3)\n"
     ]
    }
   ],
   "source": [
    "!pip install mysql-connector-python"
   ]
  },
  {
   "cell_type": "code",
   "execution_count": 106,
   "id": "1f1a2eb8",
   "metadata": {},
   "outputs": [],
   "source": [
    "import mysql.connector as conn"
   ]
  },
  {
   "cell_type": "code",
   "execution_count": 107,
   "id": "096eaeef",
   "metadata": {},
   "outputs": [],
   "source": [
    "mydb=conn.connect(host = 'localhost',user='root',passwd='Mahadev12@a')"
   ]
  },
  {
   "cell_type": "code",
   "execution_count": 108,
   "id": "828a3d36",
   "metadata": {},
   "outputs": [],
   "source": [
    "cursor=mydb.cursor()"
   ]
  },
  {
   "cell_type": "code",
   "execution_count": 109,
   "id": "dcf791fe",
   "metadata": {},
   "outputs": [],
   "source": [
    "cursor.execute(\" show databases\")"
   ]
  },
  {
   "cell_type": "code",
   "execution_count": 110,
   "id": "4526aa78",
   "metadata": {},
   "outputs": [
    {
     "data": {
      "text/plain": [
       "[('information_schema',),\n",
       " ('mysql',),\n",
       " ('performance_schema',),\n",
       " ('sakila',),\n",
       " ('sriv',),\n",
       " ('sys',),\n",
       " ('test',),\n",
       " ('world',)]"
      ]
     },
     "execution_count": 110,
     "metadata": {},
     "output_type": "execute_result"
    }
   ],
   "source": [
    "cursor.fetchall()"
   ]
  },
  {
   "cell_type": "code",
   "execution_count": 111,
   "id": "35460108",
   "metadata": {},
   "outputs": [],
   "source": [
    "cursor=mydb.cursor()"
   ]
  },
  {
   "cell_type": "code",
   "execution_count": 113,
   "id": "7da669ff",
   "metadata": {},
   "outputs": [],
   "source": [
    "cursor.execute(\"use test\")"
   ]
  },
  {
   "cell_type": "code",
   "execution_count": 114,
   "id": "dcc32868",
   "metadata": {},
   "outputs": [],
   "source": [
    "cursor.execute(\"show tables\")"
   ]
  },
  {
   "cell_type": "code",
   "execution_count": 115,
   "id": "5f795e1c",
   "metadata": {},
   "outputs": [
    {
     "data": {
      "text/plain": [
       "[('table1',), ('test2',), ('test3',), ('test4',), ('test5',)]"
      ]
     },
     "execution_count": 115,
     "metadata": {},
     "output_type": "execute_result"
    }
   ],
   "source": [
    "cursor.fetchall()"
   ]
  },
  {
   "cell_type": "code",
   "execution_count": 84,
   "id": "93faff9d",
   "metadata": {},
   "outputs": [],
   "source": [
    "cursor.execute(\"select * from test.table1\")"
   ]
  },
  {
   "cell_type": "code",
   "execution_count": 85,
   "id": "61ead52a",
   "metadata": {},
   "outputs": [
    {
     "data": {
      "text/plain": [
       "[(3844, 'sauarbh', 'sriv', 444, 'fsdsm'),\n",
       " (46237, 'prince', 'sriva', 347, 'cognizant')]"
      ]
     },
     "execution_count": 85,
     "metadata": {},
     "output_type": "execute_result"
    }
   ],
   "source": [
    "cursor.fetchall()"
   ]
  },
  {
   "cell_type": "code",
   "execution_count": 132,
   "id": "f8e6bbe0",
   "metadata": {},
   "outputs": [],
   "source": [
    "# ls"
   ]
  },
  {
   "cell_type": "code",
   "execution_count": 68,
   "id": "5231f681",
   "metadata": {},
   "outputs": [],
   "source": [
    "file=open(\"student_data.csv\" , 'r')"
   ]
  },
  {
   "cell_type": "code",
   "execution_count": 69,
   "id": "50d49069",
   "metadata": {},
   "outputs": [
    {
     "data": {
      "text/plain": [
       "'1,John,Doe,Male,11\\n2,Jane,Smith,Female,10\\n3,Michael,Johnson,Male,12\\n4,Emily,Williams,Female,11\\n5,William,Brown,Male,10\\n6,Sarah,Jones,Female,9\\n7,James,Davis,Male,11\\n8,Olivia,Miller,Female,10\\n9,Robert,Anderson,Male,12\\n10,Emma,Moore,Female,11\\n11,David,Martin,Male,10\\n12,Ava,Taylor,Female,9\\n13,Joseph,Clark,Male,11\\n14,Sophia,Thomas,Female,10\\n15,Charles,Hall,Male,12\\n16,Grace,Wilson,Female,11\\n17,Daniel,White,Male,10\\n18,Chloe,Lee,Female,9\\n19,Matthew,Scott,Male,11\\n20,Elizabeth,Harris,Female,10\\n'"
      ]
     },
     "execution_count": 69,
     "metadata": {},
     "output_type": "execute_result"
    }
   ],
   "source": [
    "file.read()"
   ]
  },
  {
   "cell_type": "code",
   "execution_count": 121,
   "id": "78989f13",
   "metadata": {
    "scrolled": true
   },
   "outputs": [
    {
     "name": "stdout",
     "output_type": "stream",
     "text": [
      "insert into test5 values (1,\"John\",\"Doe\",\"Male\",90)\n",
      "['1,\"John\",\"Doe\",\"Male\",90']\n",
      "insert into test5 values (2,\"Jane\",\"Smith\",\"Female\",85)\n",
      "['2,\"Jane\",\"Smith\",\"Female\",85']\n",
      "insert into test5 values (3,\"Michael\",\"Johnson\",\"Male\",78)\n",
      "['3,\"Michael\",\"Johnson\",\"Male\",78']\n",
      "insert into test5 values (4,\"Emily\",\"Williams\",\"Female\",92)\n",
      "['4,\"Emily\",\"Williams\",\"Female\",92']\n",
      "insert into test5 values (5,\"William\",\"Brown\",\"Male\",88)\n",
      "['5,\"William\",\"Brown\",\"Male\",88']\n",
      "insert into test5 values (6,\"Sarah\",\"Jones\",\"Female\",75)\n",
      "['6,\"Sarah\",\"Jones\",\"Female\",75']\n",
      "insert into test5 values (7,\"James\",\"Davis\",\"Male\",91)\n",
      "['7,\"James\",\"Davis\",\"Male\",91']\n",
      "insert into test5 values (8,\"Olivia\",\"Miller\",\"Female\",87)\n",
      "['8,\"Olivia\",\"Miller\",\"Female\",87']\n",
      "insert into test5 values (9,\"Robert\",\"Wilson\",\"Male\",82)\n",
      "['9,\"Robert\",\"Wilson\",\"Male\",82']\n",
      "insert into test5 values (10,\"Emma\",\"Martin\",\"Female\",89)\n",
      "['10,\"Emma\",\"Martin\",\"Female\",89']\n",
      "insert into test5 values (11,\"David\",\"Anderson\",\"Male\",79)\n",
      "['11,\"David\",\"Anderson\",\"Male\",79']\n",
      "insert into test5 values (12,\"Sophia\",\"Martinez\",\"Female\",94)\n",
      "['12,\"Sophia\",\"Martinez\",\"Female\",94']\n",
      "insert into test5 values (13,\"Joseph\",\"Lopez\",\"Male\",84)\n",
      "['13,\"Joseph\",\"Lopez\",\"Male\",84']\n",
      "insert into test5 values (14,\"Charlotte\",\"Hall\",\"Female\",93)\n",
      "['14,\"Charlotte\",\"Hall\",\"Female\",93']\n",
      "insert into test5 values (15,\"Charles\",\"Young\",\"Male\",80)\n",
      "['15,\"Charles\",\"Young\",\"Male\",80']\n",
      "insert into test5 values (16,\"Abigail\",\"Harris\",\"Female\",76)\n",
      "['16,\"Abigail\",\"Harris\",\"Female\",76']\n",
      "insert into test5 values (17,\"Thomas\",\"Clark\",\"Male\",88)\n",
      "['17,\"Thomas\",\"Clark\",\"Male\",88']\n",
      "insert into test5 values (18,\"Ella\",\"Lewis\",\"Female\",81)\n",
      "['18,\"Ella\",\"Lewis\",\"Female\",81']\n",
      "insert into test5 values (19,\"Daniel\",\"Turner\",\"Male\",77)\n",
      "['19,\"Daniel\",\"Turner\",\"Male\",77']\n",
      "insert into test5 values (20,\"Grace\",\"Wright\",\"Female\",90)\n",
      "['20,\"Grace\",\"Wright\",\"Female\",90']\n"
     ]
    }
   ],
   "source": [
    "import csv\n",
    "with open (\"student_data.csv\" , 'r') as f:\n",
    "    std_data=csv.reader(f,delimiter=\"\\n\")\n",
    "    for i in std_data:\n",
    "        print(f\"insert into test5 values ({str(i[0])})\")\n",
    "        cursor.execute(f\"insert into test.test5 values ({str(i[0])})\")\n",
    "        print(i)"
   ]
  },
  {
   "cell_type": "code",
   "execution_count": 122,
   "id": "1948923b",
   "metadata": {},
   "outputs": [],
   "source": [
    "mydb.commit()"
   ]
  },
  {
   "cell_type": "code",
   "execution_count": 128,
   "id": "5bb91ed3",
   "metadata": {},
   "outputs": [
    {
     "name": "stdout",
     "output_type": "stream",
     "text": [
      "hello world\n"
     ]
    }
   ],
   "source": [
    "print (\"hello {}\".format(\"world\"))  #using format in string "
   ]
  },
  {
   "cell_type": "code",
   "execution_count": 129,
   "id": "5e91f92c",
   "metadata": {},
   "outputs": [],
   "source": [
    "import pandas as pd"
   ]
  },
  {
   "cell_type": "code",
   "execution_count": 130,
   "id": "a44f83f9",
   "metadata": {},
   "outputs": [
    {
     "name": "stderr",
     "output_type": "stream",
     "text": [
      "C:\\Users\\prince\\anaconda3\\lib\\site-packages\\pandas\\io\\sql.py:762: UserWarning: pandas only support SQLAlchemy connectable(engine/connection) ordatabase string URI or sqlite3 DBAPI2 connectionother DBAPI2 objects are not tested, please consider using SQLAlchemy\n",
      "  warnings.warn(\n"
     ]
    },
    {
     "data": {
      "text/html": [
       "<div>\n",
       "<style scoped>\n",
       "    .dataframe tbody tr th:only-of-type {\n",
       "        vertical-align: middle;\n",
       "    }\n",
       "\n",
       "    .dataframe tbody tr th {\n",
       "        vertical-align: top;\n",
       "    }\n",
       "\n",
       "    .dataframe thead th {\n",
       "        text-align: right;\n",
       "    }\n",
       "</style>\n",
       "<table border=\"1\" class=\"dataframe\">\n",
       "  <thead>\n",
       "    <tr style=\"text-align: right;\">\n",
       "      <th></th>\n",
       "      <th>StudentID</th>\n",
       "      <th>FirstName</th>\n",
       "      <th>LastName</th>\n",
       "      <th>Gender</th>\n",
       "      <th>Grade</th>\n",
       "    </tr>\n",
       "  </thead>\n",
       "  <tbody>\n",
       "    <tr>\n",
       "      <th>0</th>\n",
       "      <td>1</td>\n",
       "      <td>John</td>\n",
       "      <td>Doe</td>\n",
       "      <td>Male</td>\n",
       "      <td>90</td>\n",
       "    </tr>\n",
       "    <tr>\n",
       "      <th>1</th>\n",
       "      <td>2</td>\n",
       "      <td>Jane</td>\n",
       "      <td>Smith</td>\n",
       "      <td>Female</td>\n",
       "      <td>85</td>\n",
       "    </tr>\n",
       "    <tr>\n",
       "      <th>2</th>\n",
       "      <td>3</td>\n",
       "      <td>Michael</td>\n",
       "      <td>Johnson</td>\n",
       "      <td>Male</td>\n",
       "      <td>78</td>\n",
       "    </tr>\n",
       "    <tr>\n",
       "      <th>3</th>\n",
       "      <td>4</td>\n",
       "      <td>Emily</td>\n",
       "      <td>Williams</td>\n",
       "      <td>Female</td>\n",
       "      <td>92</td>\n",
       "    </tr>\n",
       "    <tr>\n",
       "      <th>4</th>\n",
       "      <td>5</td>\n",
       "      <td>William</td>\n",
       "      <td>Brown</td>\n",
       "      <td>Male</td>\n",
       "      <td>88</td>\n",
       "    </tr>\n",
       "    <tr>\n",
       "      <th>5</th>\n",
       "      <td>6</td>\n",
       "      <td>Sarah</td>\n",
       "      <td>Jones</td>\n",
       "      <td>Female</td>\n",
       "      <td>75</td>\n",
       "    </tr>\n",
       "    <tr>\n",
       "      <th>6</th>\n",
       "      <td>7</td>\n",
       "      <td>James</td>\n",
       "      <td>Davis</td>\n",
       "      <td>Male</td>\n",
       "      <td>91</td>\n",
       "    </tr>\n",
       "    <tr>\n",
       "      <th>7</th>\n",
       "      <td>8</td>\n",
       "      <td>Olivia</td>\n",
       "      <td>Miller</td>\n",
       "      <td>Female</td>\n",
       "      <td>87</td>\n",
       "    </tr>\n",
       "    <tr>\n",
       "      <th>8</th>\n",
       "      <td>9</td>\n",
       "      <td>Robert</td>\n",
       "      <td>Wilson</td>\n",
       "      <td>Male</td>\n",
       "      <td>82</td>\n",
       "    </tr>\n",
       "    <tr>\n",
       "      <th>9</th>\n",
       "      <td>10</td>\n",
       "      <td>Emma</td>\n",
       "      <td>Martin</td>\n",
       "      <td>Female</td>\n",
       "      <td>89</td>\n",
       "    </tr>\n",
       "    <tr>\n",
       "      <th>10</th>\n",
       "      <td>11</td>\n",
       "      <td>David</td>\n",
       "      <td>Anderson</td>\n",
       "      <td>Male</td>\n",
       "      <td>79</td>\n",
       "    </tr>\n",
       "    <tr>\n",
       "      <th>11</th>\n",
       "      <td>12</td>\n",
       "      <td>Sophia</td>\n",
       "      <td>Martinez</td>\n",
       "      <td>Female</td>\n",
       "      <td>94</td>\n",
       "    </tr>\n",
       "    <tr>\n",
       "      <th>12</th>\n",
       "      <td>13</td>\n",
       "      <td>Joseph</td>\n",
       "      <td>Lopez</td>\n",
       "      <td>Male</td>\n",
       "      <td>84</td>\n",
       "    </tr>\n",
       "    <tr>\n",
       "      <th>13</th>\n",
       "      <td>14</td>\n",
       "      <td>Charlotte</td>\n",
       "      <td>Hall</td>\n",
       "      <td>Female</td>\n",
       "      <td>93</td>\n",
       "    </tr>\n",
       "    <tr>\n",
       "      <th>14</th>\n",
       "      <td>15</td>\n",
       "      <td>Charles</td>\n",
       "      <td>Young</td>\n",
       "      <td>Male</td>\n",
       "      <td>80</td>\n",
       "    </tr>\n",
       "    <tr>\n",
       "      <th>15</th>\n",
       "      <td>16</td>\n",
       "      <td>Abigail</td>\n",
       "      <td>Harris</td>\n",
       "      <td>Female</td>\n",
       "      <td>76</td>\n",
       "    </tr>\n",
       "    <tr>\n",
       "      <th>16</th>\n",
       "      <td>17</td>\n",
       "      <td>Thomas</td>\n",
       "      <td>Clark</td>\n",
       "      <td>Male</td>\n",
       "      <td>88</td>\n",
       "    </tr>\n",
       "    <tr>\n",
       "      <th>17</th>\n",
       "      <td>18</td>\n",
       "      <td>Ella</td>\n",
       "      <td>Lewis</td>\n",
       "      <td>Female</td>\n",
       "      <td>81</td>\n",
       "    </tr>\n",
       "    <tr>\n",
       "      <th>18</th>\n",
       "      <td>19</td>\n",
       "      <td>Daniel</td>\n",
       "      <td>Turner</td>\n",
       "      <td>Male</td>\n",
       "      <td>77</td>\n",
       "    </tr>\n",
       "    <tr>\n",
       "      <th>19</th>\n",
       "      <td>20</td>\n",
       "      <td>Grace</td>\n",
       "      <td>Wright</td>\n",
       "      <td>Female</td>\n",
       "      <td>90</td>\n",
       "    </tr>\n",
       "  </tbody>\n",
       "</table>\n",
       "</div>"
      ],
      "text/plain": [
       "    StudentID  FirstName  LastName  Gender  Grade\n",
       "0           1       John       Doe    Male     90\n",
       "1           2       Jane     Smith  Female     85\n",
       "2           3    Michael   Johnson    Male     78\n",
       "3           4      Emily  Williams  Female     92\n",
       "4           5    William     Brown    Male     88\n",
       "5           6      Sarah     Jones  Female     75\n",
       "6           7      James     Davis    Male     91\n",
       "7           8     Olivia    Miller  Female     87\n",
       "8           9     Robert    Wilson    Male     82\n",
       "9          10       Emma    Martin  Female     89\n",
       "10         11      David  Anderson    Male     79\n",
       "11         12     Sophia  Martinez  Female     94\n",
       "12         13     Joseph     Lopez    Male     84\n",
       "13         14  Charlotte      Hall  Female     93\n",
       "14         15    Charles     Young    Male     80\n",
       "15         16    Abigail    Harris  Female     76\n",
       "16         17     Thomas     Clark    Male     88\n",
       "17         18       Ella     Lewis  Female     81\n",
       "18         19     Daniel    Turner    Male     77\n",
       "19         20      Grace    Wright  Female     90"
      ]
     },
     "execution_count": 130,
     "metadata": {},
     "output_type": "execute_result"
    }
   ],
   "source": [
    "pd.read_sql(\"select * from test.test5\",mydb)"
   ]
  },
  {
   "cell_type": "code",
   "execution_count": 131,
   "id": "f8d93c17",
   "metadata": {},
   "outputs": [
    {
     "name": "stderr",
     "output_type": "stream",
     "text": [
      "C:\\Users\\prince\\anaconda3\\lib\\site-packages\\pandas\\io\\sql.py:762: UserWarning: pandas only support SQLAlchemy connectable(engine/connection) ordatabase string URI or sqlite3 DBAPI2 connectionother DBAPI2 objects are not tested, please consider using SQLAlchemy\n",
      "  warnings.warn(\n"
     ]
    },
    {
     "data": {
      "text/html": [
       "<div>\n",
       "<style scoped>\n",
       "    .dataframe tbody tr th:only-of-type {\n",
       "        vertical-align: middle;\n",
       "    }\n",
       "\n",
       "    .dataframe tbody tr th {\n",
       "        vertical-align: top;\n",
       "    }\n",
       "\n",
       "    .dataframe thead th {\n",
       "        text-align: right;\n",
       "    }\n",
       "</style>\n",
       "<table border=\"1\" class=\"dataframe\">\n",
       "  <thead>\n",
       "    <tr style=\"text-align: right;\">\n",
       "      <th></th>\n",
       "      <th>Tables_in_test</th>\n",
       "    </tr>\n",
       "  </thead>\n",
       "  <tbody>\n",
       "    <tr>\n",
       "      <th>0</th>\n",
       "      <td>table1</td>\n",
       "    </tr>\n",
       "    <tr>\n",
       "      <th>1</th>\n",
       "      <td>test5</td>\n",
       "    </tr>\n",
       "  </tbody>\n",
       "</table>\n",
       "</div>"
      ],
      "text/plain": [
       "  Tables_in_test\n",
       "0         table1\n",
       "1          test5"
      ]
     },
     "execution_count": 131,
     "metadata": {},
     "output_type": "execute_result"
    }
   ],
   "source": [
    "pd.read_sql(\"show tables\",mydb)"
   ]
  },
  {
   "cell_type": "code",
   "execution_count": null,
   "id": "f5b74bda",
   "metadata": {},
   "outputs": [],
   "source": []
  }
 ],
 "metadata": {
  "kernelspec": {
   "display_name": "Python 3 (ipykernel)",
   "language": "python",
   "name": "python3"
  },
  "language_info": {
   "codemirror_mode": {
    "name": "ipython",
    "version": 3
   },
   "file_extension": ".py",
   "mimetype": "text/x-python",
   "name": "python",
   "nbconvert_exporter": "python",
   "pygments_lexer": "ipython3",
   "version": "3.9.13"
  }
 },
 "nbformat": 4,
 "nbformat_minor": 5
}
